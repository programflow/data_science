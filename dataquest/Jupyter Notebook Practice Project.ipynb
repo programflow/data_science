{
 "cells": [
  {
   "cell_type": "markdown",
   "metadata": {},
   "source": [
    "# Project: Jupyter Notebook"
   ]
  },
  {
   "cell_type": "markdown",
   "metadata": {},
   "source": [
    "## 2. Running Code"
   ]
  },
  {
   "cell_type": "code",
   "execution_count": 5,
   "metadata": {},
   "outputs": [
    {
     "name": "stdout",
     "output_type": "stream",
     "text": [
      "Hello, Jupyter!\n"
     ]
    }
   ],
   "source": [
    "welcome_message = 'Hello, Jupyter!'\n",
    "first_cell = True\n",
    "\n",
    "if first_cell:\n",
    "    print(welcome_message)"
   ]
  },
  {
   "cell_type": "code",
   "execution_count": 6,
   "metadata": {},
   "outputs": [
    {
     "name": "stdout",
     "output_type": "stream",
     "text": [
      "240.0\n"
     ]
    }
   ],
   "source": [
    "result = 1200 / 5\n",
    "second_cell = True\n",
    "\n",
    "if second_cell:\n",
    "    print(result)\n"
   ]
  },
  {
   "cell_type": "markdown",
   "metadata": {},
   "source": [
    "## 3. Running Code Using the Keyboard"
   ]
  },
  {
   "cell_type": "code",
   "execution_count": 8,
   "metadata": {},
   "outputs": [
    {
     "name": "stdout",
     "output_type": "stream",
     "text": [
      "Hello, Jupyter!\n",
      "First cell\n"
     ]
    }
   ],
   "source": [
    "### Shift + Enter; then Alt + Enter ###\n",
    "\n",
    "welcome_message = 'Hello, Jupyter!'\n",
    "first_cell = True\n",
    "\n",
    "if first_cell:\n",
    "    print(welcome_message)\n",
    "    \n",
    "print('First cell')\n"
   ]
  },
  {
   "cell_type": "code",
   "execution_count": 9,
   "metadata": {},
   "outputs": [
    {
     "name": "stdout",
     "output_type": "stream",
     "text": [
      "Second cell\n"
     ]
    }
   ],
   "source": [
    "### Ctrl + Enter ###\n",
    "\n",
    "print('Second cell')\n"
   ]
  },
  {
   "cell_type": "code",
   "execution_count": 10,
   "metadata": {},
   "outputs": [
    {
     "name": "stdout",
     "output_type": "stream",
     "text": [
      "240.0\n",
      "Third cell\n"
     ]
    }
   ],
   "source": [
    "### Ctrl + Enter ###\n",
    "\n",
    "result = 1200 / 5\n",
    "second_cell = True\n",
    "\n",
    "if second_cell:\n",
    "    print(result)\n",
    "    \n",
    "print('Third cell')\n"
   ]
  },
  {
   "cell_type": "markdown",
   "metadata": {},
   "source": [
    "## 4. Keyboard Shortcuts"
   ]
  },
  {
   "cell_type": "code",
   "execution_count": 13,
   "metadata": {},
   "outputs": [
    {
     "name": "stdout",
     "output_type": "stream",
     "text": [
      "Hello, Jupyter!\n",
      "First cell\n"
     ]
    }
   ],
   "source": [
    "welcome_message = 'Hello, Jupyter!'\n",
    "first_cell = True\n",
    "\n",
    "if first_cell:\n",
    "    print(welcome_message)\n",
    "    \n",
    "print('First cell')\n"
   ]
  },
  {
   "cell_type": "code",
   "execution_count": 15,
   "metadata": {},
   "outputs": [
    {
     "name": "stdout",
     "output_type": "stream",
     "text": [
      "240.0\n",
      "Second cell\n"
     ]
    }
   ],
   "source": [
    "result = 1200 / 5\n",
    "second_cell = True\n",
    "\n",
    "if second_cell:\n",
    "    print(result)\n",
    "    \n",
    "print('Second cell')"
   ]
  },
  {
   "cell_type": "code",
   "execution_count": 16,
   "metadata": {},
   "outputs": [
    {
     "name": "stdout",
     "output_type": "stream",
     "text": [
      "A true third cell\n"
     ]
    }
   ],
   "source": [
    "print('A true third cell')\n"
   ]
  },
  {
   "cell_type": "markdown",
   "metadata": {},
   "source": [
    "## 5. State"
   ]
  },
  {
   "cell_type": "code",
   "execution_count": 17,
   "metadata": {},
   "outputs": [],
   "source": [
    "def welcome(a_string):\n",
    "    print('Welcome to ' + a_string + '!')\n",
    "    \n",
    "dq = 'Dataquest'\n",
    "jn = 'Jupyter Notebook'\n",
    "py = 'Python'\n"
   ]
  },
  {
   "cell_type": "code",
   "execution_count": 19,
   "metadata": {},
   "outputs": [
    {
     "name": "stdout",
     "output_type": "stream",
     "text": [
      "Welcome to Dataquest!\n",
      "Welcome to Jupyter Notebook!\n",
      "Welcome to Python!\n"
     ]
    }
   ],
   "source": [
    "welcome(dq)\n",
    "welcome(jn)\n",
    "welcome(py)\n"
   ]
  },
  {
   "cell_type": "markdown",
   "metadata": {},
   "source": [
    "## 6. Hidden State"
   ]
  },
  {
   "cell_type": "code",
   "execution_count": 21,
   "metadata": {},
   "outputs": [
    {
     "name": "stdout",
     "output_type": "stream",
     "text": [
      ">>> def welcome(a_string):\n",
      "...     br ='Welcome to ' + a_string + '!'\n",
      "...     return br\n",
      "... dq = 'Dataquest'\n",
      "... jn = 'Jupyter Notebook'\n",
      "...\n",
      ">>> welcome(dq)\n",
      "... welcome(jn)\n",
      "... welcome(py)\n",
      "...\n",
      ">>> welcome(dq)\n",
      "... welcome(jn)\n",
      "...\n",
      ">>> welcome_message = 'Hello, Jupyter!'\n",
      "... first_cell = True\n",
      "... \n",
      "... if first_cell:\n",
      "...     print(welcome_message)\n",
      "...\n",
      ">>> welcome_message = 'Hello, Jupyter!'\n",
      "... first_cell = True\n",
      "... \n",
      "... if first_cell:\n",
      "...     print(welcome_message)\n",
      "...\n",
      ">>> result = 1200 / 5\n",
      "... second_cell = True\n",
      "... \n",
      "... if second_cell:\n",
      "...     print(result)\n",
      "...\n",
      ">>> ### Shift + Enter; then Alt + Enter ###\n",
      "... \n",
      "... welcome_message = 'Hello, Jupyter!'\n",
      "... first_cell = True\n",
      "... \n",
      "... if first_cell:\n",
      "...     print(welcome_message)\n",
      "...     \n",
      "... print('First cell')\n",
      "...\n",
      ">>> ### Shift + Enter; then Alt + Enter ###\n",
      "... \n",
      "... welcome_message = 'Hello, Jupyter!'\n",
      "... first_cell = True\n",
      "... \n",
      "... if first_cell:\n",
      "...     print(welcome_message)\n",
      "...     \n",
      "... print('First cell')\n",
      "...\n",
      ">>> ### Ctrl + Enter ###\n",
      "... \n",
      "... print('Second cell')\n",
      "...\n",
      ">>> ### Ctrl + Enter ###\n",
      "... \n",
      "... result = 1200 / 5\n",
      "... second_cell = True\n",
      "... \n",
      "... if second_cell:\n",
      "...     print(result)\n",
      "...     \n",
      "... print('Third cell')\n",
      "...\n",
      ">>> def welcome(a_string):\n",
      "...     br ='Welcome to ' + a_string + '!'\n",
      "...     return br\n",
      "... dq = 'Dataquest'\n",
      "... jn = 'Jupyter Notebook'\n",
      "...\n",
      ">>> welcome_message = 'Hello, Jupyter!'\n",
      "... first_cell = True\n",
      "... \n",
      "... if first_cell:\n",
      "...     print(welcome_message)\n",
      "...     \n",
      "... print('First cell')\n",
      "...\n",
      ">>> welcome_message = 'Hello, Jupyter!'\n",
      "... first_cell = True\n",
      "... \n",
      "... if first_cell:\n",
      "...     print(welcome_message)\n",
      "...     \n",
      "... print('First cell')\n",
      "...\n",
      ">>> result = 1200 / 5\n",
      "... second_cell = True\n",
      "... \n",
      "... if second_cell:\n",
      "...     print(result)\n",
      "...     \n",
      "... print('Second cell')\n",
      "...\n",
      ">>> result = 1200 / 5\n",
      "... second_cell = True\n",
      "... \n",
      "... if second_cell:\n",
      "...     print(result)\n",
      "...     \n",
      "... print('Second cell')\n",
      "...\n",
      ">>> print('A true third cell')\n",
      ">>> def welcome(a_string):\n",
      "...     print('Welcome to ' + a_string + '!')\n",
      "...     \n",
      "... dq = 'Dataquest'\n",
      "... jn = 'Jupyter Notebook'\n",
      "... py = 'Python'\n",
      "...\n",
      ">>> welcome(dq)\n",
      "... welcome(jn)\n",
      "... welcome(py)\n",
      "...\n",
      ">>> welcome(dq)\n",
      "... welcome(jn)\n",
      "... welcome(py)\n",
      "...\n",
      ">>> %history -p\n",
      ">>> %history -p\n"
     ]
    }
   ],
   "source": [
    "%history -p"
   ]
  },
  {
   "cell_type": "code",
   "execution_count": 22,
   "metadata": {},
   "outputs": [],
   "source": [
    "# Restart & Clear Output"
   ]
  },
  {
   "cell_type": "code",
   "execution_count": 23,
   "metadata": {},
   "outputs": [
    {
     "data": {
      "text/plain": [
       "\"\\nNote: To reproduce exactly the output in this notebook\\nas whole:\\n\\n1. Run all the cells above.\\n2. Restart the program's state but keep the output\\n(click Restart Kernel).\\n3. Then, run only the cells below.\\n\\n\\n(You were not asked in this exercise to write a note like this.\\nThe note above was written to give more details on how to reproduce\\nthe behavior seen in this notebook.)\\n\""
      ]
     },
     "execution_count": 23,
     "metadata": {},
     "output_type": "execute_result"
    }
   ],
   "source": [
    "'''\n",
    "Note: To reproduce exactly the output in this notebook\n",
    "as whole:\n",
    "\n",
    "1. Run all the cells above.\n",
    "2. Restart the program's state but keep the output\n",
    "(click Restart Kernel).\n",
    "3. Then, run only the cells below.\n",
    "\n",
    "\n",
    "(You were not asked in this exercise to write a note like this.\n",
    "The note above was written to give more details on how to reproduce\n",
    "the behavior seen in this notebook.)\n",
    "'''\n"
   ]
  },
  {
   "cell_type": "code",
   "execution_count": 11,
   "metadata": {},
   "outputs": [],
   "source": [
    "def welcome(a_string):\n",
    "    br ='Welcome to ' + a_string + '!'\n",
    "    return br\n",
    "dq = 'Dataquest'\n",
    "jn = 'Jupyter Notebook'"
   ]
  },
  {
   "cell_type": "code",
   "execution_count": 24,
   "metadata": {},
   "outputs": [
    {
     "name": "stdout",
     "output_type": "stream",
     "text": [
      ">>> def welcome(a_string):\n",
      "...     br ='Welcome to ' + a_string + '!'\n",
      "...     return br\n",
      "... dq = 'Dataquest'\n",
      "... jn = 'Jupyter Notebook'\n",
      "...\n",
      ">>> welcome(dq)\n",
      "... welcome(jn)\n",
      "... welcome(py)\n",
      "...\n",
      ">>> welcome(dq)\n",
      "... welcome(jn)\n",
      "...\n",
      ">>> welcome_message = 'Hello, Jupyter!'\n",
      "... first_cell = True\n",
      "... \n",
      "... if first_cell:\n",
      "...     print(welcome_message)\n",
      "...\n",
      ">>> welcome_message = 'Hello, Jupyter!'\n",
      "... first_cell = True\n",
      "... \n",
      "... if first_cell:\n",
      "...     print(welcome_message)\n",
      "...\n",
      ">>> result = 1200 / 5\n",
      "... second_cell = True\n",
      "... \n",
      "... if second_cell:\n",
      "...     print(result)\n",
      "...\n",
      ">>> ### Shift + Enter; then Alt + Enter ###\n",
      "... \n",
      "... welcome_message = 'Hello, Jupyter!'\n",
      "... first_cell = True\n",
      "... \n",
      "... if first_cell:\n",
      "...     print(welcome_message)\n",
      "...     \n",
      "... print('First cell')\n",
      "...\n",
      ">>> ### Shift + Enter; then Alt + Enter ###\n",
      "... \n",
      "... welcome_message = 'Hello, Jupyter!'\n",
      "... first_cell = True\n",
      "... \n",
      "... if first_cell:\n",
      "...     print(welcome_message)\n",
      "...     \n",
      "... print('First cell')\n",
      "...\n",
      ">>> ### Ctrl + Enter ###\n",
      "... \n",
      "... print('Second cell')\n",
      "...\n",
      ">>> ### Ctrl + Enter ###\n",
      "... \n",
      "... result = 1200 / 5\n",
      "... second_cell = True\n",
      "... \n",
      "... if second_cell:\n",
      "...     print(result)\n",
      "...     \n",
      "... print('Third cell')\n",
      "...\n",
      ">>> def welcome(a_string):\n",
      "...     br ='Welcome to ' + a_string + '!'\n",
      "...     return br\n",
      "... dq = 'Dataquest'\n",
      "... jn = 'Jupyter Notebook'\n",
      "...\n",
      ">>> welcome_message = 'Hello, Jupyter!'\n",
      "... first_cell = True\n",
      "... \n",
      "... if first_cell:\n",
      "...     print(welcome_message)\n",
      "...     \n",
      "... print('First cell')\n",
      "...\n",
      ">>> welcome_message = 'Hello, Jupyter!'\n",
      "... first_cell = True\n",
      "... \n",
      "... if first_cell:\n",
      "...     print(welcome_message)\n",
      "...     \n",
      "... print('First cell')\n",
      "...\n",
      ">>> result = 1200 / 5\n",
      "... second_cell = True\n",
      "... \n",
      "... if second_cell:\n",
      "...     print(result)\n",
      "...     \n",
      "... print('Second cell')\n",
      "...\n",
      ">>> result = 1200 / 5\n",
      "... second_cell = True\n",
      "... \n",
      "... if second_cell:\n",
      "...     print(result)\n",
      "...     \n",
      "... print('Second cell')\n",
      "...\n",
      ">>> print('A true third cell')\n",
      ">>> def welcome(a_string):\n",
      "...     print('Welcome to ' + a_string + '!')\n",
      "...     \n",
      "... dq = 'Dataquest'\n",
      "... jn = 'Jupyter Notebook'\n",
      "... py = 'Python'\n",
      "...\n",
      ">>> welcome(dq)\n",
      "... welcome(jn)\n",
      "... welcome(py)\n",
      "...\n",
      ">>> welcome(dq)\n",
      "... welcome(jn)\n",
      "... welcome(py)\n",
      "...\n",
      ">>> %history -p\n",
      ">>> %history -p\n",
      ">>> # Restart & Clear Output\n",
      ">>> '''\n",
      "... Note: To reproduce exactly the output in this notebook\n",
      "... as whole:\n",
      "... \n",
      "... 1. Run all the cells above.\n",
      "... 2. Restart the program's state but keep the output\n",
      "... (click Restart Kernel).\n",
      "... 3. Then, run only the cells below.\n",
      "... \n",
      "... \n",
      "... (You were not asked in this exercise to write a note like this.\n",
      "... The note above was written to give more details on how to reproduce\n",
      "... the behavior seen in this notebook.)\n",
      "... '''\n",
      "...\n",
      ">>> \n",
      "... %history -p\n",
      "...\n"
     ]
    }
   ],
   "source": [
    "\n",
    "%history -p"
   ]
  },
  {
   "cell_type": "code",
   "execution_count": 25,
   "metadata": {},
   "outputs": [],
   "source": [
    "\n",
    "def welcome(a_string):\n",
    "    welcome_msg = 'Welcome to ' + a_string + '!'\n",
    "    return welcome_msg\n",
    "\n",
    "dq = 'Dataquest'\n",
    "jn = 'Jupyter Notebook'"
   ]
  },
  {
   "cell_type": "code",
   "execution_count": 27,
   "metadata": {},
   "outputs": [
    {
     "data": {
      "text/plain": [
       "'Welcome to Python!'"
      ]
     },
     "execution_count": 27,
     "metadata": {},
     "output_type": "execute_result"
    }
   ],
   "source": [
    "welcome(dq)\n",
    "welcome(jn)\n",
    "welcome(py)\n"
   ]
  },
  {
   "cell_type": "code",
   "execution_count": 29,
   "metadata": {},
   "outputs": [
    {
     "name": "stdout",
     "output_type": "stream",
     "text": [
      ">>> def welcome(a_string):\n",
      "...     br ='Welcome to ' + a_string + '!'\n",
      "...     return br\n",
      "... dq = 'Dataquest'\n",
      "... jn = 'Jupyter Notebook'\n",
      "...\n",
      ">>> welcome(dq)\n",
      "... welcome(jn)\n",
      "... welcome(py)\n",
      "...\n",
      ">>> welcome(dq)\n",
      "... welcome(jn)\n",
      "...\n",
      ">>> welcome_message = 'Hello, Jupyter!'\n",
      "... first_cell = True\n",
      "... \n",
      "... if first_cell:\n",
      "...     print(welcome_message)\n",
      "...\n",
      ">>> welcome_message = 'Hello, Jupyter!'\n",
      "... first_cell = True\n",
      "... \n",
      "... if first_cell:\n",
      "...     print(welcome_message)\n",
      "...\n",
      ">>> result = 1200 / 5\n",
      "... second_cell = True\n",
      "... \n",
      "... if second_cell:\n",
      "...     print(result)\n",
      "...\n",
      ">>> ### Shift + Enter; then Alt + Enter ###\n",
      "... \n",
      "... welcome_message = 'Hello, Jupyter!'\n",
      "... first_cell = True\n",
      "... \n",
      "... if first_cell:\n",
      "...     print(welcome_message)\n",
      "...     \n",
      "... print('First cell')\n",
      "...\n",
      ">>> ### Shift + Enter; then Alt + Enter ###\n",
      "... \n",
      "... welcome_message = 'Hello, Jupyter!'\n",
      "... first_cell = True\n",
      "... \n",
      "... if first_cell:\n",
      "...     print(welcome_message)\n",
      "...     \n",
      "... print('First cell')\n",
      "...\n",
      ">>> ### Ctrl + Enter ###\n",
      "... \n",
      "... print('Second cell')\n",
      "...\n",
      ">>> ### Ctrl + Enter ###\n",
      "... \n",
      "... result = 1200 / 5\n",
      "... second_cell = True\n",
      "... \n",
      "... if second_cell:\n",
      "...     print(result)\n",
      "...     \n",
      "... print('Third cell')\n",
      "...\n",
      ">>> def welcome(a_string):\n",
      "...     br ='Welcome to ' + a_string + '!'\n",
      "...     return br\n",
      "... dq = 'Dataquest'\n",
      "... jn = 'Jupyter Notebook'\n",
      "...\n",
      ">>> welcome_message = 'Hello, Jupyter!'\n",
      "... first_cell = True\n",
      "... \n",
      "... if first_cell:\n",
      "...     print(welcome_message)\n",
      "...     \n",
      "... print('First cell')\n",
      "...\n",
      ">>> welcome_message = 'Hello, Jupyter!'\n",
      "... first_cell = True\n",
      "... \n",
      "... if first_cell:\n",
      "...     print(welcome_message)\n",
      "...     \n",
      "... print('First cell')\n",
      "...\n",
      ">>> result = 1200 / 5\n",
      "... second_cell = True\n",
      "... \n",
      "... if second_cell:\n",
      "...     print(result)\n",
      "...     \n",
      "... print('Second cell')\n",
      "...\n",
      ">>> result = 1200 / 5\n",
      "... second_cell = True\n",
      "... \n",
      "... if second_cell:\n",
      "...     print(result)\n",
      "...     \n",
      "... print('Second cell')\n",
      "...\n",
      ">>> print('A true third cell')\n",
      ">>> def welcome(a_string):\n",
      "...     print('Welcome to ' + a_string + '!')\n",
      "...     \n",
      "... dq = 'Dataquest'\n",
      "... jn = 'Jupyter Notebook'\n",
      "... py = 'Python'\n",
      "...\n",
      ">>> welcome(dq)\n",
      "... welcome(jn)\n",
      "... welcome(py)\n",
      "...\n",
      ">>> welcome(dq)\n",
      "... welcome(jn)\n",
      "... welcome(py)\n",
      "...\n",
      ">>> %history -p\n",
      ">>> %history -p\n",
      ">>> # Restart & Clear Output\n",
      ">>> '''\n",
      "... Note: To reproduce exactly the output in this notebook\n",
      "... as whole:\n",
      "... \n",
      "... 1. Run all the cells above.\n",
      "... 2. Restart the program's state but keep the output\n",
      "... (click Restart Kernel).\n",
      "... 3. Then, run only the cells below.\n",
      "... \n",
      "... \n",
      "... (You were not asked in this exercise to write a note like this.\n",
      "... The note above was written to give more details on how to reproduce\n",
      "... the behavior seen in this notebook.)\n",
      "... '''\n",
      "...\n",
      ">>> \n",
      "... %history -p\n",
      "...\n",
      ">>> \n",
      "... def welcome(a_string):\n",
      "...     welcome_msg = 'Welcome to ' + a_string + '!'\n",
      "...     return welcome_msg\n",
      "... \n",
      "... dq = 'Dataquest'\n",
      "... jn = 'Jupyter Notebook'\n",
      "...\n",
      ">>> welcome(dq)\n",
      "... welcome(jn)\n",
      "... welcome(py)\n",
      "...\n",
      ">>> welcome(dq)\n",
      "... welcome(jn)\n",
      "... welcome(py)\n",
      "...\n",
      ">>> %history -p\n",
      ">>> %history -p\n"
     ]
    }
   ],
   "source": [
    "%history -p\n"
   ]
  },
  {
   "cell_type": "code",
   "execution_count": 30,
   "metadata": {},
   "outputs": [
    {
     "data": {
      "text/plain": [
       "'Welcome to Python!'"
      ]
     },
     "execution_count": 30,
     "metadata": {},
     "output_type": "execute_result"
    }
   ],
   "source": [
    "welcome(dq)\n",
    "welcome(jn)\n",
    "welcome(py)\n"
   ]
  },
  {
   "cell_type": "markdown",
   "metadata": {},
   "source": [
    "## 7. Text and Markdown"
   ]
  },
  {
   "cell_type": "markdown",
   "metadata": {},
   "source": [
    "In the code cell below, we:\n",
    "\n",
    ". Open the AppleStore.csv file using the open() function, and assign the outpu to a variable named opened_file\n",
    "\n",
    ". Import the reader() function from the csv module\n",
    "\n",
    ".Read in the opened file using the reader() function, and assign the output to a variable named read_file\n",
    "\n",
    ". Transform the read-in file to a list of lists using list(0 and save it to a variable named appds_data\n",
    "\n",
    ". Display the header row and the first three rows of the data set."
   ]
  },
  {
   "cell_type": "code",
   "execution_count": 31,
   "metadata": {},
   "outputs": [
    {
     "data": {
      "text/plain": [
       "[['',\n",
       "  'id',\n",
       "  'track_name',\n",
       "  'size_bytes',\n",
       "  'currency',\n",
       "  'price',\n",
       "  'rating_count_tot',\n",
       "  'rating_count_ver',\n",
       "  'user_rating',\n",
       "  'user_rating_ver',\n",
       "  'ver',\n",
       "  'cont_rating',\n",
       "  'prime_genre',\n",
       "  'sup_devices.num',\n",
       "  'ipadSc_urls.num',\n",
       "  'lang.num',\n",
       "  'vpp_lic'],\n",
       " ['1',\n",
       "  '281656475',\n",
       "  'PAC-MAN Premium',\n",
       "  '100788224',\n",
       "  'USD',\n",
       "  '3.99',\n",
       "  '21292',\n",
       "  '26',\n",
       "  '4',\n",
       "  '4.5',\n",
       "  '6.3.5',\n",
       "  '4+',\n",
       "  'Games',\n",
       "  '38',\n",
       "  '5',\n",
       "  '10',\n",
       "  '1'],\n",
       " ['2',\n",
       "  '281796108',\n",
       "  'Evernote - stay organized',\n",
       "  '158578688',\n",
       "  'USD',\n",
       "  '0',\n",
       "  '161065',\n",
       "  '26',\n",
       "  '4',\n",
       "  '3.5',\n",
       "  '8.2.2',\n",
       "  '4+',\n",
       "  'Productivity',\n",
       "  '37',\n",
       "  '5',\n",
       "  '23',\n",
       "  '1'],\n",
       " ['3',\n",
       "  '281940292',\n",
       "  'WeatherBug - Local Weather, Radar, Maps, Alerts',\n",
       "  '100524032',\n",
       "  'USD',\n",
       "  '0',\n",
       "  '188583',\n",
       "  '2822',\n",
       "  '3.5',\n",
       "  '4.5',\n",
       "  '5.0.0',\n",
       "  '4+',\n",
       "  'Weather',\n",
       "  '37',\n",
       "  '5',\n",
       "  '3',\n",
       "  '1']]"
      ]
     },
     "execution_count": 31,
     "metadata": {},
     "output_type": "execute_result"
    }
   ],
   "source": [
    "opened_file = open('AppleStore.csv')\n",
    "from csv import reader\n",
    "read_file = reader(opened_file)\n",
    "apps_data = list(read_file)\n",
    "\n",
    "apps_data[:4]"
   ]
  },
  {
   "cell_type": "markdown",
   "metadata": {},
   "source": [
    "The data set above contains information about apps sold in the Applestore including ratings, cost, genre, etc. There are over 7000 iOS apps.\n",
    "\n",
    "We retrieved this data set from the iTunes Search API by Rmanathan Perumal.Documentation for the data set can be found here: https://www.kaggle.com/ramamet4/app-store-apple-data-set-10k-apps/home\n",
    "\n"
   ]
  },
  {
   "cell_type": "markdown",
   "metadata": {},
   "source": [
    "The following table describes the information in data set:\n",
    "\n",
    "|  Column name     |   Description  |\n",
    "| :------------    | :------------- |\n",
    "| \"id\"             | App ID         |\n",
    "| \"track_name\"     | App Name       |\n",
    "| \"size_bytes\"     | Size (in Bytes)|\n",
    "| \"currency\"       | Currency Type  |\n",
    "| \"price\"          | Price amount   |\n",
    "| \"ratingcounttot\" | User Rating counts (for all version)|\n",
    "|\"ratingcountver\"  |  User Rating counts (for current version)|\n",
    "| \"user_rating\"    | Average User Rating value (for all version)|\n",
    "| \"userratingver\"  | Average User Rating value (for current version)|\n",
    "| \"ver\"            | Latest version code |\n",
    "| \"cont_rating\"    | Content Rating |\n",
    "| \"prime_genre\"    | Primary Genre  |\n",
    "| \"sup_devices.num\"| Number of supporting devices|\n",
    "| \"ipadSc_urls.num\"| Number of screenshots showed for display|\n",
    "|\"lang.num\"        | Number of supported languages|\n",
    "|\"vpp_lic\"| Vpp Device Based Licensing Enabled|"
   ]
  },
  {
   "cell_type": "code",
   "execution_count": null,
   "metadata": {},
   "outputs": [],
   "source": []
  }
 ],
 "metadata": {
  "kernelspec": {
   "display_name": "Python 3",
   "language": "python",
   "name": "python3"
  },
  "language_info": {
   "codemirror_mode": {
    "name": "ipython",
    "version": 3
   },
   "file_extension": ".py",
   "mimetype": "text/x-python",
   "name": "python",
   "nbconvert_exporter": "python",
   "pygments_lexer": "ipython3",
   "version": "3.7.3"
  }
 },
 "nbformat": 4,
 "nbformat_minor": 2
}
